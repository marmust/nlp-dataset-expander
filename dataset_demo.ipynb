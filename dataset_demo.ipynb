{
 "cells": [
  {
   "cell_type": "code",
   "execution_count": 421,
   "metadata": {},
   "outputs": [],
   "source": [
    "from transformers import pipeline\n",
    "import random\n",
    "import csv\n",
    "from tqdm import tqdm"
   ]
  },
  {
   "cell_type": "code",
   "execution_count": 422,
   "metadata": {},
   "outputs": [],
   "source": [
    "format = [[\"xpand 0-15\", \"positive\"],\n",
    "          [\"xpand 52-68\", \"negative\"]]"
   ]
  },
  {
   "cell_type": "code",
   "execution_count": 304,
   "metadata": {},
   "outputs": [
    {
     "name": "stderr",
     "output_type": "stream",
     "text": [
      "Some weights of the model checkpoint at bert-base-uncased were not used when initializing BertForMaskedLM: ['cls.seq_relationship.bias', 'cls.seq_relationship.weight']\n",
      "- This IS expected if you are initializing BertForMaskedLM from the checkpoint of a model trained on another task or with another architecture (e.g. initializing a BertForSequenceClassification model from a BertForPreTraining model).\n",
      "- This IS NOT expected if you are initializing BertForMaskedLM from the checkpoint of a model that you expect to be exactly identical (initializing a BertForSequenceClassification model from a BertForSequenceClassification model).\n"
     ]
    }
   ],
   "source": [
    "unmasker = pipeline('fill-mask', model='bert-base-uncased')\n",
    "filter = \"abcdefghijklmnopqrstuvwxyzABCDEFGHIJKLMNOPQRSTUVWXYZ ,1234567890\""
   ]
  },
  {
   "cell_type": "code",
   "execution_count": 259,
   "metadata": {},
   "outputs": [],
   "source": [
    "def multiple_unmask(text, word_randomness):\n",
    "    text = text.split(\"[MASK]\")\n",
    "    completed = text[0]\n",
    "    \n",
    "    for x in range(len(text) - 1):\n",
    "        completed += \"[MASK]\" + text[x + 1]\n",
    "        completed = unmasker(completed)[word_randomness][\"sequence\"]\n",
    "    \n",
    "    return completed"
   ]
  },
  {
   "cell_type": "code",
   "execution_count": 260,
   "metadata": {},
   "outputs": [],
   "source": [
    "def clean(text):\n",
    "    cleaned = \"\"\n",
    "    \n",
    "    for x in range(len(text)):\n",
    "        if text[x] in filter:\n",
    "            cleaned += text[x]\n",
    "    \n",
    "    return cleaned"
   ]
  },
  {
   "cell_type": "code",
   "execution_count": 261,
   "metadata": {},
   "outputs": [],
   "source": [
    "def rephrase(text, word_randomness_0to4):\n",
    "    ipt = text\n",
    "    text = clean(text)\n",
    "    text = text.split()\n",
    "    \n",
    "    while True:\n",
    "        for x in range(int(len(text) / 2)):\n",
    "            if random.randint(0, 2) == 0:\n",
    "                text[x * 2] = \"[MASK]\"\n",
    "        \n",
    "        out = multiple_unmask(\" \".join(text), word_randomness_0to4)\n",
    "        \n",
    "        if clean(out) != clean(ipt):\n",
    "            return out"
   ]
  },
  {
   "cell_type": "code",
   "execution_count": 426,
   "metadata": {},
   "outputs": [],
   "source": [
    "def expand_txt(fpath):\n",
    "    file = open(fpath, \"r\")\n",
    "    lines = file.read().split(\"\\n\")\n",
    "    expanded = []\n",
    "    \n",
    "    for x in tqdm(range(len(lines))):\n",
    "        expanded.append(rephrase(lines[x], 4))\n",
    "\n",
    "    print(\"finished expanding\")\n",
    "    \n",
    "    file = open(fpath, \"a+\")\n",
    "\n",
    "    for x in tqdm(expanded):\n",
    "        file.write(\"\\n\" + x)\n",
    "\n",
    "    print(\"finished writing\")"
   ]
  },
  {
   "cell_type": "code",
   "execution_count": 429,
   "metadata": {},
   "outputs": [
    {
     "name": "stderr",
     "output_type": "stream",
     "text": [
      "100%|██████████| 100/100 [00:08<00:00, 11.37it/s]\n"
     ]
    },
    {
     "name": "stdout",
     "output_type": "stream",
     "text": [
      "finished expanding\n"
     ]
    },
    {
     "name": "stderr",
     "output_type": "stream",
     "text": [
      "100%|██████████| 100/100 [00:00<00:00, 199633.70it/s]"
     ]
    },
    {
     "name": "stdout",
     "output_type": "stream",
     "text": [
      "finished writing\n"
     ]
    },
    {
     "name": "stderr",
     "output_type": "stream",
     "text": [
      "\n"
     ]
    }
   ],
   "source": [
    "expand_txt(r\"C:\\Users\\user\\Desktop\\simulation\\test.txt\")"
   ]
  },
  {
   "cell_type": "code",
   "execution_count": null,
   "metadata": {},
   "outputs": [],
   "source": []
  }
 ],
 "metadata": {
  "kernelspec": {
   "display_name": "Python 3",
   "language": "python",
   "name": "python3"
  },
  "language_info": {
   "codemirror_mode": {
    "name": "ipython",
    "version": 3
   },
   "file_extension": ".py",
   "mimetype": "text/x-python",
   "name": "python",
   "nbconvert_exporter": "python",
   "pygments_lexer": "ipython3",
   "version": "3.10.6"
  },
  "orig_nbformat": 4,
  "vscode": {
   "interpreter": {
    "hash": "fb4569285eef3a3450cb62085a5b1e0da4bce0af555edc33dcf29baf3acc1368"
   }
  }
 },
 "nbformat": 4,
 "nbformat_minor": 2
}
