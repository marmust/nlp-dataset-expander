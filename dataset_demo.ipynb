{
 "cells": [
  {
   "cell_type": "code",
   "execution_count": 41,
   "metadata": {},
   "outputs": [],
   "source": [
    "# imports\n",
    "from transformers import pipeline\n",
    "from tqdm import tqdm\n",
    "from transformers import PegasusForConditionalGeneration, PegasusTokenizer\n",
    "import torch"
   ]
  },
  {
   "cell_type": "code",
   "execution_count": 42,
   "metadata": {},
   "outputs": [],
   "source": [
    "# define the rephraser model (pegasus paraphraser)\n",
    "# its later used in rephrasing the dataset\n",
    "model_name = 'tuner007/pegasus_paraphrase'\n",
    "# find the device for the model (gpu if available or cpu)\n",
    "torch_device = 'cuda' if torch.cuda.is_available() else 'cpu'\n",
    "# define the tokenizer (download if not already installed)\n",
    "tokenizer = PegasusTokenizer.from_pretrained(model_name)\n",
    "# define the model (download if not already installed)\n",
    "model = PegasusForConditionalGeneration.from_pretrained(model_name).to(torch_device)"
   ]
  },
  {
   "cell_type": "code",
   "execution_count": 43,
   "metadata": {},
   "outputs": [],
   "source": [
    "# function to rephrase a sentence\n",
    "# input_text             >    text to be rephrased\n",
    "# num_return_sequence    >    batch size\n",
    "# num beams              >    batch size\n",
    "def get_response(input_text,num_return_sequences,num_beams):\n",
    "  batch = tokenizer([input_text],truncation=True,padding='longest',max_length=60, return_tensors=\"pt\").to(torch_device)\n",
    "  translated = model.generate(**batch,max_length=60,num_beams=num_beams, num_return_sequences=num_return_sequences, temperature=1.5)\n",
    "  tgt_text = tokenizer.batch_decode(translated, skip_special_tokens=True)\n",
    "  return tgt_text"
   ]
  },
  {
   "cell_type": "code",
   "execution_count": 39,
   "metadata": {},
   "outputs": [],
   "source": [
    "def expand(txt_fpath):\n",
    "    # open the specified file to be expanded\n",
    "    file = open(txt_fpath, \"r\")\n",
    "    # read it to a list for every line\n",
    "    lines = file.read().split(\"\\n\")\n",
    "    # close it\n",
    "    file.close()\n",
    "    expanded = []\n",
    "    \n",
    "    for x in tqdm(range(len(lines))):\n",
    "        expanded.append(get_response(lines[x], 1, 1)[0])\n",
    "\n",
    "    print(\"finished expanding\")\n",
    "    \n",
    "    file = open(txt_fpath, \"a+\")\n",
    "\n",
    "    for x in tqdm(expanded):\n",
    "        file.write(\"\\n\" + x)\n",
    "\n",
    "    file.close()\n",
    "    \n",
    "    print(\"finished writing\")"
   ]
  },
  {
   "cell_type": "code",
   "execution_count": 40,
   "metadata": {},
   "outputs": [
    {
     "name": "stderr",
     "output_type": "stream",
     "text": [
      "100%|██████████| 200/200 [02:53<00:00,  1.15it/s]\n"
     ]
    },
    {
     "name": "stdout",
     "output_type": "stream",
     "text": [
      "finished expanding\n"
     ]
    },
    {
     "name": "stderr",
     "output_type": "stream",
     "text": [
      "100%|██████████| 200/200 [00:00<?, ?it/s]"
     ]
    },
    {
     "name": "stdout",
     "output_type": "stream",
     "text": [
      "finished writing\n"
     ]
    },
    {
     "name": "stderr",
     "output_type": "stream",
     "text": [
      "\n"
     ]
    }
   ],
   "source": [
    "expand_txt(r\"C:\\Users\\user\\Desktop\\simulation\\test.txt\")"
   ]
  },
  {
   "cell_type": "code",
   "execution_count": null,
   "metadata": {},
   "outputs": [],
   "source": []
  }
 ],
 "metadata": {
  "kernelspec": {
   "display_name": "Python 3",
   "language": "python",
   "name": "python3"
  },
  "language_info": {
   "codemirror_mode": {
    "name": "ipython",
    "version": 3
   },
   "file_extension": ".py",
   "mimetype": "text/x-python",
   "name": "python",
   "nbconvert_exporter": "python",
   "pygments_lexer": "ipython3",
   "version": "3.10.6"
  },
  "orig_nbformat": 4,
  "vscode": {
   "interpreter": {
    "hash": "fb4569285eef3a3450cb62085a5b1e0da4bce0af555edc33dcf29baf3acc1368"
   }
  }
 },
 "nbformat": 4,
 "nbformat_minor": 2
}
